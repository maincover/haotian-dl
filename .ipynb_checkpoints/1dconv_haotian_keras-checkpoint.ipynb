{
 "cells": [
  {
   "cell_type": "code",
   "execution_count": 1,
   "metadata": {},
   "outputs": [
    {
     "name": "stderr",
     "output_type": "stream",
     "text": [
      "/home/xsong/miniconda2/lib/python2.7/site-packages/h5py/__init__.py:34: FutureWarning: Conversion of the second argument of issubdtype from `float` to `np.floating` is deprecated. In future, it will be treated as `np.float64 == np.dtype(float).type`.\n",
      "  from ._conv import register_converters as _register_converters\n",
      "Using TensorFlow backend.\n"
     ]
    },
    {
     "name": "stdout",
     "output_type": "stream",
     "text": [
      "(189365,) (189365, 31)\n"
     ]
    }
   ],
   "source": [
    "import numpy as np\n",
    "from keras.preprocessing.text import one_hot\n",
    "def seqTrans(argument):\n",
    "    switcher = {\n",
    "        'A': 1,\n",
    "        'T': 2,\n",
    "        'G': 3,\n",
    "        'C': 4,\n",
    "        'N': np.random.randint(1,4)\n",
    "    }\n",
    "    return switcher.get(argument, \"Invalid month\")\n",
    "\n",
    "def lineToArr(line):\n",
    "    arr = np.array([])\n",
    "    for a in line:\n",
    "        v = seqTrans(a)    \n",
    "        arr = np.append(arr,v)    \n",
    "    return arr\n",
    "\n",
    "\n",
    "import csv\n",
    "\n",
    "l_arr = []\n",
    "y =np.array([])\n",
    "\n",
    "vocab_size = 64\n",
    "\n",
    "with open('NGS201811_Censored(updated).csv') as csv_file:\n",
    "    csv_reader = csv.reader(csv_file, delimiter=',')\n",
    "    line_count = 0\n",
    "    for row in csv_reader:\n",
    "        if line_count == 0:\n",
    "            #print row\n",
    "            line_count += 1\n",
    "        else:            \n",
    "            line_count += 1\n",
    "            s = row[0]\n",
    "            lw = [s[i:i+3] for i in range(0, len(s)-2, 1)]  #lw = [s[i:i+3] for i in range(0, len(s), 3)]            \n",
    "            encoded_docs = [one_hot(d, vocab_size) for d in lw]\n",
    "            arr_id = np.asarray(encoded_docs)            \n",
    "            l_arr.append(arr_id.ravel())\n",
    "            y = np.append(y,row[2])\n",
    "\n",
    "with open('NGS201708_Censored(updated).csv') as csv_file:\n",
    "    csv_reader = csv.reader(csv_file, delimiter=',')\n",
    "    line_count = 0\n",
    "    for row in csv_reader:\n",
    "        if line_count == 0:\n",
    "            #print row\n",
    "            line_count += 1\n",
    "        else:            \n",
    "            line_count += 1\n",
    "            s = row[0]\n",
    "            lw = [s[i:i+3] for i in range(0, len(s)-2, 1)]  #lw = [s[i:i+3] for i in range(0, len(s), 3)]            \n",
    "            encoded_docs = [one_hot(d, vocab_size) for d in lw]\n",
    "            arr_id = np.asarray(encoded_docs)            \n",
    "            l_arr.append(arr_id.ravel())\n",
    "            y = np.append(y,row[2])            \n",
    "            \n",
    "m_data = np.asmatrix(l_arr)\n",
    "y = y.astype('float32')\n",
    "#m_data = m_data.astype('float32')\n",
    "#m_data = np.expand_dims(m_data, axis=2)\n",
    "#m_data=m_data.transpose()\n",
    "#y = y.reshape(1,len(y))\n",
    "print y.shape, m_data.shape"
   ]
  },
  {
   "cell_type": "code",
   "execution_count": 136,
   "metadata": {},
   "outputs": [
    {
     "name": "stdout",
     "output_type": "stream",
     "text": [
      "(17938,) (17938, 31)\n"
     ]
    }
   ],
   "source": [
    "import numpy as np\n",
    "from keras.preprocessing.text import one_hot\n",
    "def seqTrans(argument):\n",
    "    switcher = {\n",
    "        'A': 1,\n",
    "        'T': 2,\n",
    "        'G': 3,\n",
    "        'C': 4,\n",
    "        'N': np.random.randint(1,4)\n",
    "    }\n",
    "    return switcher.get(argument, \"Invalid month\")\n",
    "\n",
    "def lineToArr(line):\n",
    "    arr = np.array([])\n",
    "    for a in line:\n",
    "        v = seqTrans(a)    \n",
    "        arr = np.append(arr,v)    \n",
    "    return arr\n",
    "\n",
    "\n",
    "import csv\n",
    "\n",
    "l_arr = []\n",
    "y =np.array([])\n",
    "\n",
    "vocab_size = 64\n",
    "\n",
    "\n",
    "with open('NGS201708_Censored(updated).csv') as csv_file:\n",
    "    csv_reader = csv.reader(csv_file, delimiter=',')\n",
    "    line_count = 0\n",
    "    for row in csv_reader:\n",
    "        if line_count == 0:\n",
    "            #print row\n",
    "            line_count += 1\n",
    "        else:            \n",
    "            line_count += 1\n",
    "            s = row[0]\n",
    "            lw = [s[i:i+3] for i in range(0, len(s)-2, 1)]  #lw = [s[i:i+3] for i in range(0, len(s), 3)]            \n",
    "            encoded_docs = [one_hot(d, vocab_size) for d in lw]\n",
    "            arr_id = np.asarray(encoded_docs)            \n",
    "            l_arr.append(arr_id.ravel())\n",
    "            y = np.append(y,row[2])            \n",
    "            \n",
    "m_data = np.asmatrix(l_arr)\n",
    "y = y.astype('float32')\n",
    "#m_data = m_data.astype('float32')\n",
    "#m_data = np.expand_dims(m_data, axis=2)\n",
    "#m_data=m_data.transpose()\n",
    "#y = y.reshape(1,len(y))\n",
    "print y.shape, m_data.shape"
   ]
  },
  {
   "cell_type": "code",
   "execution_count": 103,
   "metadata": {},
   "outputs": [
    {
     "name": "stdout",
     "output_type": "stream",
     "text": [
      "(119998, 31) (119998,)\n",
      "(119998, 2)\n"
     ]
    }
   ],
   "source": [
    "# Get the whole first file as trainning dataset, the other part as test\n",
    "#  Equanlization of training dataset\n",
    "Equalization = False\n",
    "train_ratio = 0.7 \n",
    "if Equalization:\n",
    "    id_1 =  np.where(y==1)\n",
    "    id_1 = id_1[0] \n",
    "    k = id_1.tolist()\n",
    "    idx = np.random.randint(len(k),size=int(len(k)*train_ratio))\n",
    "    x_train = m_data[idx,]\n",
    "    y_train = y[idx,]\n",
    "    print x_train.shape,y_train.shape\n",
    "else:\n",
    "    # No equalization of training dataset    \n",
    "    idx = np.random.randint(171427, size=int(171427*train_ratio))\n",
    "    #idx = range(171427)\n",
    "    x_train = m_data[idx,]\n",
    "    y_train = y[idx,]\n",
    "    print x_train.shape,y_train.shape\n",
    "    \n",
    "    \n",
    "from keras.utils import to_categorical\n",
    "\n",
    "num_classes = 2\n",
    "\n",
    "x_train = x_train.astype(int)\n",
    "y_train = to_categorical(y_train,num_classes)\n",
    "print y_train.shape"
   ]
  },
  {
   "cell_type": "code",
   "execution_count": 129,
   "metadata": {},
   "outputs": [
    {
     "data": {
      "text/plain": [
       "132555.5"
      ]
     },
     "execution_count": 129,
     "metadata": {},
     "output_type": "execute_result"
    }
   ],
   "source": [
    "189365*0.7"
   ]
  },
  {
   "cell_type": "code",
   "execution_count": 2,
   "metadata": {},
   "outputs": [
    {
     "name": "stdout",
     "output_type": "stream",
     "text": [
      "(132555, 31) (132555,)\n",
      "(132555, 2)\n"
     ]
    }
   ],
   "source": [
    "#  Equanlization of training dataset,get 70% of dataset as trainning dataset\n",
    "Equalization = False\n",
    "train_ratio = 0.7\n",
    "if Equalization:\n",
    "    id_1 =  np.where(y==1)\n",
    "    id_1 = id_1[0] \n",
    "    k = id_1.tolist()\n",
    "    idx = np.random.randint(len(k),size=int(len(k)*train_ratio))\n",
    "    x_train = m_data[idx,]\n",
    "    y_train = y[idx,]\n",
    "    print x_train.shape,y_train.shape\n",
    "else:\n",
    "    # No equalization of training dataset    \n",
    "    idx = np.random.randint(len(y), size=int(len(y)*train_ratio))\n",
    "    x_train = m_data[idx,]\n",
    "    y_train = y[idx,]\n",
    "    print x_train.shape,y_train.shape\n",
    "    \n",
    "    \n",
    "from keras.utils import to_categorical\n",
    "\n",
    "num_classes = 2\n",
    "\n",
    "x_train = x_train.astype(int)\n",
    "y_train = to_categorical(y_train,num_classes)\n",
    "print y_train.shape"
   ]
  },
  {
   "cell_type": "code",
   "execution_count": 11,
   "metadata": {},
   "outputs": [
    {
     "ename": "NameError",
     "evalue": "global name 'tf' is not defined",
     "output_type": "error",
     "traceback": [
      "\u001b[0;31m---------------------------------------------------------------------------\u001b[0m",
      "\u001b[0;31mNameError\u001b[0m                                 Traceback (most recent call last)",
      "\u001b[0;32m<ipython-input-11-0bb8ba7b2f24>\u001b[0m in \u001b[0;36m<module>\u001b[0;34m()\u001b[0m\n\u001b[1;32m     28\u001b[0m \u001b[0;31m# compile the model 编译\u001b[0m\u001b[0;34m\u001b[0m\u001b[0;34m\u001b[0m\u001b[0m\n\u001b[1;32m     29\u001b[0m \u001b[0;34m\u001b[0m\u001b[0m\n\u001b[0;32m---> 30\u001b[0;31m \u001b[0mmodel\u001b[0m\u001b[0;34m.\u001b[0m\u001b[0mcompile\u001b[0m\u001b[0;34m(\u001b[0m\u001b[0moptimizer\u001b[0m\u001b[0;34m=\u001b[0m\u001b[0;34m'adam'\u001b[0m\u001b[0;34m,\u001b[0m \u001b[0mloss\u001b[0m\u001b[0;34m=\u001b[0m\u001b[0;34m[\u001b[0m\u001b[0mfocal_loss\u001b[0m\u001b[0;34m(\u001b[0m\u001b[0malpha\u001b[0m\u001b[0;34m=\u001b[0m\u001b[0;36m.25\u001b[0m\u001b[0;34m,\u001b[0m \u001b[0mgamma\u001b[0m\u001b[0;34m=\u001b[0m\u001b[0;36m2\u001b[0m\u001b[0;34m)\u001b[0m\u001b[0;34m]\u001b[0m\u001b[0;34m,\u001b[0m \u001b[0mmetrics\u001b[0m\u001b[0;34m=\u001b[0m\u001b[0;34m[\u001b[0m\u001b[0;34m'acc'\u001b[0m\u001b[0;34m]\u001b[0m\u001b[0;34m)\u001b[0m\u001b[0;34m\u001b[0m\u001b[0m\n\u001b[0m\u001b[1;32m     31\u001b[0m \u001b[0;31m#model.compile(optimizer='adam', loss='binary_crossentropy', metrics=['acc'])\u001b[0m\u001b[0;34m\u001b[0m\u001b[0;34m\u001b[0m\u001b[0m\n\u001b[1;32m     32\u001b[0m \u001b[0;31m# summarize the model 打印模型信息\u001b[0m\u001b[0;34m\u001b[0m\u001b[0;34m\u001b[0m\u001b[0m\n",
      "\u001b[0;32m/home/xsong/miniconda2/lib/python2.7/site-packages/keras/engine/training.pyc\u001b[0m in \u001b[0;36mcompile\u001b[0;34m(self, optimizer, loss, metrics, loss_weights, sample_weight_mode, weighted_metrics, target_tensors, **kwargs)\u001b[0m\n\u001b[1;32m    340\u001b[0m                 \u001b[0;32mwith\u001b[0m \u001b[0mK\u001b[0m\u001b[0;34m.\u001b[0m\u001b[0mname_scope\u001b[0m\u001b[0;34m(\u001b[0m\u001b[0mself\u001b[0m\u001b[0;34m.\u001b[0m\u001b[0moutput_names\u001b[0m\u001b[0;34m[\u001b[0m\u001b[0mi\u001b[0m\u001b[0;34m]\u001b[0m \u001b[0;34m+\u001b[0m \u001b[0;34m'_loss'\u001b[0m\u001b[0;34m)\u001b[0m\u001b[0;34m:\u001b[0m\u001b[0;34m\u001b[0m\u001b[0m\n\u001b[1;32m    341\u001b[0m                     output_loss = weighted_loss(y_true, y_pred,\n\u001b[0;32m--> 342\u001b[0;31m                                                 sample_weight, mask)\n\u001b[0m\u001b[1;32m    343\u001b[0m                 \u001b[0;32mif\u001b[0m \u001b[0mlen\u001b[0m\u001b[0;34m(\u001b[0m\u001b[0mself\u001b[0m\u001b[0;34m.\u001b[0m\u001b[0moutputs\u001b[0m\u001b[0;34m)\u001b[0m \u001b[0;34m>\u001b[0m \u001b[0;36m1\u001b[0m\u001b[0;34m:\u001b[0m\u001b[0;34m\u001b[0m\u001b[0m\n\u001b[1;32m    344\u001b[0m                     \u001b[0mself\u001b[0m\u001b[0;34m.\u001b[0m\u001b[0mmetrics_tensors\u001b[0m\u001b[0;34m.\u001b[0m\u001b[0mappend\u001b[0m\u001b[0;34m(\u001b[0m\u001b[0moutput_loss\u001b[0m\u001b[0;34m)\u001b[0m\u001b[0;34m\u001b[0m\u001b[0m\n",
      "\u001b[0;32m/home/xsong/miniconda2/lib/python2.7/site-packages/keras/engine/training_utils.pyc\u001b[0m in \u001b[0;36mweighted\u001b[0;34m(y_true, y_pred, weights, mask)\u001b[0m\n\u001b[1;32m    402\u001b[0m         \"\"\"\n\u001b[1;32m    403\u001b[0m         \u001b[0;31m# score_array has ndim >= 2\u001b[0m\u001b[0;34m\u001b[0m\u001b[0;34m\u001b[0m\u001b[0m\n\u001b[0;32m--> 404\u001b[0;31m         \u001b[0mscore_array\u001b[0m \u001b[0;34m=\u001b[0m \u001b[0mfn\u001b[0m\u001b[0;34m(\u001b[0m\u001b[0my_true\u001b[0m\u001b[0;34m,\u001b[0m \u001b[0my_pred\u001b[0m\u001b[0;34m)\u001b[0m\u001b[0;34m\u001b[0m\u001b[0m\n\u001b[0m\u001b[1;32m    405\u001b[0m         \u001b[0;32mif\u001b[0m \u001b[0mmask\u001b[0m \u001b[0;32mis\u001b[0m \u001b[0;32mnot\u001b[0m \u001b[0mNone\u001b[0m\u001b[0;34m:\u001b[0m\u001b[0;34m\u001b[0m\u001b[0m\n\u001b[1;32m    406\u001b[0m             \u001b[0;31m# Cast the mask to floatX to avoid float64 upcasting in Theano\u001b[0m\u001b[0;34m\u001b[0m\u001b[0;34m\u001b[0m\u001b[0m\n",
      "\u001b[0;32m/home/xsong/Desktop/haotian 1d cnn/focal_loss.py\u001b[0m in \u001b[0;36mfocal_loss_fixed\u001b[0;34m(y_true, y_pred)\u001b[0m\n\u001b[1;32m      5\u001b[0m \u001b[0;32mdef\u001b[0m \u001b[0mfocal_loss\u001b[0m\u001b[0;34m(\u001b[0m\u001b[0mgamma\u001b[0m\u001b[0;34m=\u001b[0m\u001b[0;36m2.\u001b[0m\u001b[0;34m,\u001b[0m \u001b[0malpha\u001b[0m\u001b[0;34m=\u001b[0m\u001b[0;36m.25\u001b[0m\u001b[0;34m)\u001b[0m\u001b[0;34m:\u001b[0m\u001b[0;34m\u001b[0m\u001b[0m\n\u001b[1;32m      6\u001b[0m         \u001b[0;32mdef\u001b[0m \u001b[0mfocal_loss_fixed\u001b[0m\u001b[0;34m(\u001b[0m\u001b[0my_true\u001b[0m\u001b[0;34m,\u001b[0m \u001b[0my_pred\u001b[0m\u001b[0;34m)\u001b[0m\u001b[0;34m:\u001b[0m\u001b[0;34m\u001b[0m\u001b[0m\n\u001b[0;32m----> 7\u001b[0;31m                 \u001b[0mpt_1\u001b[0m \u001b[0;34m=\u001b[0m \u001b[0mtf\u001b[0m\u001b[0;34m.\u001b[0m\u001b[0mwhere\u001b[0m\u001b[0;34m(\u001b[0m\u001b[0mtf\u001b[0m\u001b[0;34m.\u001b[0m\u001b[0mequal\u001b[0m\u001b[0;34m(\u001b[0m\u001b[0my_true\u001b[0m\u001b[0;34m,\u001b[0m \u001b[0;36m1\u001b[0m\u001b[0;34m)\u001b[0m\u001b[0;34m,\u001b[0m \u001b[0my_pred\u001b[0m\u001b[0;34m,\u001b[0m \u001b[0mtf\u001b[0m\u001b[0;34m.\u001b[0m\u001b[0mones_like\u001b[0m\u001b[0;34m(\u001b[0m\u001b[0my_pred\u001b[0m\u001b[0;34m)\u001b[0m\u001b[0;34m)\u001b[0m\u001b[0;34m\u001b[0m\u001b[0m\n\u001b[0m\u001b[1;32m      8\u001b[0m                 \u001b[0mpt_0\u001b[0m \u001b[0;34m=\u001b[0m \u001b[0mtf\u001b[0m\u001b[0;34m.\u001b[0m\u001b[0mwhere\u001b[0m\u001b[0;34m(\u001b[0m\u001b[0mtf\u001b[0m\u001b[0;34m.\u001b[0m\u001b[0mequal\u001b[0m\u001b[0;34m(\u001b[0m\u001b[0my_true\u001b[0m\u001b[0;34m,\u001b[0m \u001b[0;36m0\u001b[0m\u001b[0;34m)\u001b[0m\u001b[0;34m,\u001b[0m \u001b[0my_pred\u001b[0m\u001b[0;34m,\u001b[0m \u001b[0mtf\u001b[0m\u001b[0;34m.\u001b[0m\u001b[0mzeros_like\u001b[0m\u001b[0;34m(\u001b[0m\u001b[0my_pred\u001b[0m\u001b[0;34m)\u001b[0m\u001b[0;34m)\u001b[0m\u001b[0;34m\u001b[0m\u001b[0m\n\u001b[1;32m      9\u001b[0m                 \u001b[0;32mreturn\u001b[0m \u001b[0;34m-\u001b[0m\u001b[0mK\u001b[0m\u001b[0;34m.\u001b[0m\u001b[0msum\u001b[0m\u001b[0;34m(\u001b[0m\u001b[0malpha\u001b[0m \u001b[0;34m*\u001b[0m \u001b[0mK\u001b[0m\u001b[0;34m.\u001b[0m\u001b[0mpow\u001b[0m\u001b[0;34m(\u001b[0m\u001b[0;36m1.\u001b[0m \u001b[0;34m-\u001b[0m \u001b[0mpt_1\u001b[0m\u001b[0;34m,\u001b[0m \u001b[0mgamma\u001b[0m\u001b[0;34m)\u001b[0m \u001b[0;34m*\u001b[0m \u001b[0mK\u001b[0m\u001b[0;34m.\u001b[0m\u001b[0mlog\u001b[0m\u001b[0;34m(\u001b[0m\u001b[0mpt_1\u001b[0m\u001b[0;34m)\u001b[0m\u001b[0;34m)\u001b[0m\u001b[0;34m-\u001b[0m\u001b[0mK\u001b[0m\u001b[0;34m.\u001b[0m\u001b[0msum\u001b[0m\u001b[0;34m(\u001b[0m\u001b[0;34m(\u001b[0m\u001b[0;36m1\u001b[0m\u001b[0;34m-\u001b[0m\u001b[0malpha\u001b[0m\u001b[0;34m)\u001b[0m \u001b[0;34m*\u001b[0m \u001b[0mK\u001b[0m\u001b[0;34m.\u001b[0m\u001b[0mpow\u001b[0m\u001b[0;34m(\u001b[0m \u001b[0mpt_0\u001b[0m\u001b[0;34m,\u001b[0m \u001b[0mgamma\u001b[0m\u001b[0;34m)\u001b[0m \u001b[0;34m*\u001b[0m \u001b[0mK\u001b[0m\u001b[0;34m.\u001b[0m\u001b[0mlog\u001b[0m\u001b[0;34m(\u001b[0m\u001b[0;36m1.\u001b[0m \u001b[0;34m-\u001b[0m \u001b[0mpt_0\u001b[0m\u001b[0;34m)\u001b[0m\u001b[0;34m)\u001b[0m\u001b[0;34m\u001b[0m\u001b[0m\n",
      "\u001b[0;31mNameError\u001b[0m: global name 'tf' is not defined"
     ]
    }
   ],
   "source": [
    "from keras.models import Sequential\n",
    "from keras.layers import Dense, Flatten, Input\n",
    "from keras.layers.embeddings import Embedding\n",
    "from keras.models import Model\n",
    "from keras.preprocessing.sequence import pad_sequences\n",
    "from keras.preprocessing.text import one_hot\n",
    "from keras.layers import Dense, Dropout, Flatten, Reshape, GlobalAveragePooling1D\n",
    "from keras.layers import Conv2D, MaxPooling2D, Conv1D, MaxPooling1D\n",
    "from keras.utils import np_utils\n",
    "from focal_loss import focal_loss\n",
    "model = Sequential()\n",
    "\n",
    "vocab_size=64\n",
    "max_length = 31\n",
    "model.add(Embedding(vocab_size, 8 , input_length=max_length))\n",
    "#model.add(Flatten())\n",
    "model.add(Conv1D(128, 3, activation='relu'))\n",
    "model.add(Conv1D(128, 3, activation='relu'))\n",
    "model.add(MaxPooling1D(2))\n",
    "model.add(Conv1D(256, 3, activation='relu'))\n",
    "model.add(Conv1D(256, 3, activation='relu'))\n",
    "model.add(MaxPooling1D(2))\n",
    "model.add(Conv1D(512, 3, activation='relu'))\n",
    "model.add(GlobalAveragePooling1D())\n",
    "model.add(Dropout(0.5))\n",
    "\n",
    "model.add(Dense(2, activation='softmax'))\n",
    "# compile the model 编译\n",
    "\n",
    "model.compile(optimizer='adam', loss=[focal_loss(alpha=.25, gamma=2)], metrics=['acc'])\n",
    "#model.compile(optimizer='adam', loss='binary_crossentropy', metrics=['acc'])\n",
    "# summarize the model 打印模型信息\n",
    "print(model.summary())"
   ]
  },
  {
   "cell_type": "code",
   "execution_count": 4,
   "metadata": {},
   "outputs": [
    {
     "name": "stdout",
     "output_type": "stream",
     "text": [
      "\n",
      "--- Fit the model ---\n",
      "\n",
      "Train on 131229 samples, validate on 1326 samples\n",
      "Epoch 1/50\n",
      "131229/131229 [==============================] - 19s 142us/step - loss: 0.4232 - acc: 0.8235 - val_loss: 0.3503 - val_acc: 0.8582\n",
      "Epoch 2/50\n",
      "131229/131229 [==============================] - 13s 98us/step - loss: 0.3163 - acc: 0.8744 - val_loss: 0.3035 - val_acc: 0.8846\n",
      "Epoch 3/50\n",
      "131229/131229 [==============================] - 12s 92us/step - loss: 0.2757 - acc: 0.8913 - val_loss: 0.2674 - val_acc: 0.8944\n",
      "Epoch 4/50\n",
      "131229/131229 [==============================] - 11s 86us/step - loss: 0.2444 - acc: 0.9059 - val_loss: 0.2600 - val_acc: 0.8944\n",
      "Epoch 5/50\n",
      "131229/131229 [==============================] - 11s 87us/step - loss: 0.2193 - acc: 0.9165 - val_loss: 0.2513 - val_acc: 0.9005\n",
      "Epoch 6/50\n",
      "131229/131229 [==============================] - 11s 87us/step - loss: 0.1981 - acc: 0.9256 - val_loss: 0.2271 - val_acc: 0.9140\n",
      "Epoch 7/50\n",
      "131229/131229 [==============================] - 12s 88us/step - loss: 0.1805 - acc: 0.9324 - val_loss: 0.2173 - val_acc: 0.9118\n",
      "Epoch 8/50\n",
      "131229/131229 [==============================] - 12s 89us/step - loss: 0.1648 - acc: 0.9390 - val_loss: 0.2068 - val_acc: 0.9268\n",
      "Epoch 9/50\n",
      "131229/131229 [==============================] - 11s 87us/step - loss: 0.1519 - acc: 0.9437 - val_loss: 0.2019 - val_acc: 0.9246\n",
      "Epoch 10/50\n",
      "131229/131229 [==============================] - 11s 86us/step - loss: 0.1393 - acc: 0.9488 - val_loss: 0.1879 - val_acc: 0.9268\n",
      "Epoch 11/50\n",
      "131229/131229 [==============================] - 12s 89us/step - loss: 0.1283 - acc: 0.9524 - val_loss: 0.2021 - val_acc: 0.9238\n",
      "Epoch 12/50\n",
      "131229/131229 [==============================] - 13s 96us/step - loss: 0.1206 - acc: 0.9558 - val_loss: 0.1986 - val_acc: 0.9216\n",
      "Epoch 13/50\n",
      "131229/131229 [==============================] - 14s 107us/step - loss: 0.1124 - acc: 0.9587 - val_loss: 0.1817 - val_acc: 0.9336\n",
      "Epoch 14/50\n",
      "131229/131229 [==============================] - 14s 106us/step - loss: 0.1044 - acc: 0.9618 - val_loss: 0.1978 - val_acc: 0.9223\n",
      "Epoch 15/50\n",
      "131229/131229 [==============================] - 13s 103us/step - loss: 0.0997 - acc: 0.9629 - val_loss: 0.1741 - val_acc: 0.9412\n",
      "Epoch 16/50\n",
      "131229/131229 [==============================] - 13s 101us/step - loss: 0.0928 - acc: 0.9665 - val_loss: 0.1817 - val_acc: 0.9397\n",
      "Epoch 17/50\n",
      "131229/131229 [==============================] - 13s 98us/step - loss: 0.0891 - acc: 0.9677 - val_loss: 0.1687 - val_acc: 0.9367\n",
      "Epoch 18/50\n",
      "131229/131229 [==============================] - 13s 97us/step - loss: 0.0827 - acc: 0.9700 - val_loss: 0.1908 - val_acc: 0.9427\n",
      "Epoch 19/50\n",
      "131229/131229 [==============================] - 13s 96us/step - loss: 0.0784 - acc: 0.9720 - val_loss: 0.2009 - val_acc: 0.9367\n",
      "Epoch 20/50\n",
      "131229/131229 [==============================] - 13s 95us/step - loss: 0.0757 - acc: 0.9726 - val_loss: 0.1953 - val_acc: 0.9427\n",
      "Epoch 21/50\n",
      "131229/131229 [==============================] - 13s 95us/step - loss: 0.0724 - acc: 0.9732 - val_loss: 0.2167 - val_acc: 0.9434\n",
      "Epoch 22/50\n",
      "131229/131229 [==============================] - 13s 96us/step - loss: 0.0695 - acc: 0.9747 - val_loss: 0.1972 - val_acc: 0.9449\n",
      "Epoch 23/50\n",
      "131229/131229 [==============================] - 13s 96us/step - loss: 0.0672 - acc: 0.9766 - val_loss: 0.2123 - val_acc: 0.9359\n",
      "Epoch 24/50\n",
      "131229/131229 [==============================] - 13s 99us/step - loss: 0.0648 - acc: 0.9765 - val_loss: 0.2155 - val_acc: 0.9412\n"
     ]
    }
   ],
   "source": [
    "# fit the model 拟合\n",
    "import keras\n",
    "\n",
    "BATCH_SIZE=200\n",
    "EPOCHS = 50\n",
    "print(\"\\n--- Fit the model ---\\n\")\n",
    "\n",
    "# The EarlyStopping callback monitors training accuracy:\n",
    "# if it fails to improve for two consecutive epochs,\n",
    "# training stops early\n",
    "callbacks_list = [\n",
    "    keras.callbacks.ModelCheckpoint(\n",
    "        filepath='best_model.{epoch:02d}-{val_loss:.2f}.h5',\n",
    "        monitor='val_loss', save_best_only=True),\n",
    "    keras.callbacks.EarlyStopping(monitor='acc', patience=1)\n",
    "]\n",
    "\n",
    "history = model.fit(x_train,\n",
    "                      y_train,\n",
    "                      batch_size=BATCH_SIZE,\n",
    "                      epochs=EPOCHS,\n",
    "                      callbacks=callbacks_list,\n",
    "                      validation_split=0.01,\n",
    "                      verbose=1)\n",
    "#history = model.fit(x_train, y_train, epochs=50,verbose=1)\n",
    "# evaluate the model 评估\n",
    "#loss, accuracy = model.evaluate(x_train, labels, verbose=0)\n",
    "#print('Accuracy: %f' % (accuracy*100))"
   ]
  },
  {
   "cell_type": "code",
   "execution_count": 6,
   "metadata": {},
   "outputs": [
    {
     "data": {
      "image/png": "[encoded data removed]",
      "text/plain": [
       "<Figure size 432x288 with 1 Axes>"
      ]
     },
     "metadata": {},
     "output_type": "display_data"
    }
   ],
   "source": [
    "# summarize history for accuracy and loss\n",
    "import matplotlib.pyplot as plt\n",
    "plt.figure(figsize=(6, 4))\n",
    "plt.plot(history.history['acc'], \"g--\", label=\"Accuracy of training data\")\n",
    "plt.plot(history.history['val_acc'], \"g\", label=\"Accuracy of validation data\")\n",
    "plt.plot(history.history['loss'], \"r--\", label=\"Loss of training data\")\n",
    "plt.plot(history.history['val_loss'], \"r\", label=\"Loss of validation data\")\n",
    "plt.title('Model Accuracy and Loss')\n",
    "plt.ylabel('Accuracy and Loss')\n",
    "plt.xlabel('Training Epoch')\n",
    "plt.ylim(0)\n",
    "plt.legend()\n",
    "plt.show()"
   ]
  },
  {
   "cell_type": "code",
   "execution_count": 7,
   "metadata": {},
   "outputs": [],
   "source": [
    "def show_confusion_matrix(validations, predictions):\n",
    "\n",
    "    matrix = metrics.confusion_matrix(validations, predictions)\n",
    "    plt.figure(figsize=(6, 4))\n",
    "    sns.heatmap(matrix,\n",
    "                cmap=\"coolwarm\",\n",
    "                linecolor='white',\n",
    "                linewidths=1,\n",
    "                xticklabels=LABELS,\n",
    "                yticklabels=LABELS,\n",
    "                annot=True,\n",
    "                fmt=\"d\")\n",
    "    plt.title(\"Confusion Matrix\")\n",
    "    plt.ylabel(\"True Label\")\n",
    "    plt.xlabel(\"Predicted Label\")\n",
    "    plt.show()"
   ]
  },
  {
   "cell_type": "code",
   "execution_count": 9,
   "metadata": {},
   "outputs": [
    {
     "name": "stdout",
     "output_type": "stream",
     "text": [
      "\n",
      "--- Check against test data ---\n",
      "\n",
      "(17940, 31) (17940,)\n",
      "17940/17940 [==============================] - 2s 89us/step\n",
      "\n",
      "Accuracy on test data: 0.91\n",
      "\n",
      "Loss on test data: 0.40\n",
      "\n",
      "--- Confusion matrix for test data ---\n",
      "\n"
     ]
    },
    {
     "data": {
      "image/png": "[encoded data removed]",
      "text/plain": [
       "<Figure size 432x288 with 2 Axes>"
      ]
     },
     "metadata": {},
     "output_type": "display_data"
    },
    {
     "name": "stdout",
     "output_type": "stream",
     "text": [
      "\n",
      "--- Classification report for test data ---\n",
      "\n",
      "             precision    recall  f1-score   support\n",
      "\n",
      "          0       0.92      0.96      0.94     13081\n",
      "          1       0.87      0.78      0.82      4859\n",
      "\n",
      "avg / total       0.91      0.91      0.91     17940\n",
      "\n"
     ]
    }
   ],
   "source": [
    "#%%\n",
    "from sklearn import metrics\n",
    "from sklearn.metrics import classification_report\n",
    "import seaborn as sns\n",
    "from scipy import stats\n",
    "LABELS = [\"Desactivated\",\n",
    "          \"Activated\"]\n",
    "\n",
    "print(\"\\n--- Check against test data ---\\n\")\n",
    "\n",
    "idx = range(171425)\n",
    "x_test=np.delete(m_data,idx,axis=0)\n",
    "y_test=np.delete(y,idx)\n",
    "print x_test.shape, y_test.shape\n",
    "\n",
    "x_test = x_test.astype(\"float32\")\n",
    "y_test = y_test.astype(\"float32\")\n",
    "\n",
    "y_test = np_utils.to_categorical(y_test, num_classes)\n",
    "\n",
    "score = model.evaluate(x_test, y_test, verbose=1)\n",
    "\n",
    "print(\"\\nAccuracy on test data: %0.2f\" % score[1])\n",
    "print(\"\\nLoss on test data: %0.2f\" % score[0])\n",
    "\n",
    "# %%\n",
    "\n",
    "print(\"\\n--- Confusion matrix for test data ---\\n\")\n",
    "\n",
    "y_pred_test = model.predict(x_test)\n",
    "# Take the class with the highest probability from the test predictions\n",
    "max_y_pred_test = np.argmax(y_pred_test, axis=1)\n",
    "max_y_test = np.argmax(y_test, axis=1)\n",
    "\n",
    "show_confusion_matrix(max_y_test, max_y_pred_test)\n",
    "\n",
    "# %%\n",
    "\n",
    "print(\"\\n--- Classification report for test data ---\\n\")\n",
    "\n",
    "print(classification_report(max_y_test, max_y_pred_test))"
   ]
  },
  {
   "cell_type": "code",
   "execution_count": 125,
   "metadata": {},
   "outputs": [
    {
     "data": {
      "text/plain": [
       "(17940, 31)"
      ]
     },
     "execution_count": 125,
     "metadata": {},
     "output_type": "execute_result"
    }
   ],
   "source": [
    "x_test.shape"
   ]
  },
  {
   "cell_type": "code",
   "execution_count": null,
   "metadata": {},
   "outputs": [],
   "source": [
    "import matplotlib.pyplot as plt\n",
    "%matplotlib inline  \n",
    "# An \"interface\" to matplotlib.axes.Axes.hist() method\n",
    "n, bins, patches = plt.hist(x=y, bins=[-0.5,0.5,1.5], color='#0504aa',\n",
    "                            alpha=0.7, rwidth=0.85)\n",
    "plt.grid(axis='y', alpha=0.75)\n",
    "plt.xlabel('Value')\n",
    "plt.ylabel('Frequency')\n",
    "plt.title('Histogram')\n",
    "#plt.text(23, 45, r'$\\mu=15, b=3$')\n",
    "print n\n",
    "maxfreq = n.max()\n",
    "# Set a clean upper y-axis limit.\n",
    "#plt.ylim(ymax=np.ceil(maxfreq / 10) * 10 if maxfreq % 10 else maxfreq + 10)"
   ]
  },
  {
   "cell_type": "code",
   "execution_count": 55,
   "metadata": {},
   "outputs": [
    {
     "name": "stdout",
     "output_type": "stream",
     "text": [
      "(119998, 33) (119998,)\n"
     ]
    }
   ],
   "source": [
    "#  Equanlization of training dataset\n",
    "Equalization = False\n",
    "binary_class = False\n",
    "train_ratio = 0.7\n",
    "if Equalization:\n",
    "    id_1 =  np.where(y==1)\n",
    "    id_1 = id_1[0] \n",
    "    k = id_1.tolist()\n",
    "    idx = np.random.randint(len(k),size=int(len(k)*train_ratio))\n",
    "    x_train = m_data[idx,]\n",
    "    y_train = y[idx,]\n",
    "    print x_train.shape,y_train.shape\n",
    "else:\n",
    "    # No equalization of training dataset    \n",
    "    idx = np.random.randint(len(y), size=int(len(y)*train_ratio))\n",
    "    x_train = m_data[idx,]\n",
    "    y_train = y[idx,]\n",
    "    print x_train.shape,y_train.shape"
   ]
  },
  {
   "cell_type": "code",
   "execution_count": null,
   "metadata": {},
   "outputs": [],
   "source": [
    "hotEncodeInput = False\n",
    "if hotEncodeInput:\n",
    "    num_sensors = 4\n",
    "    x_train = to_categorical(x_train,num_sensors)\n",
    "    x_train.shape\n",
    "    input_shape = (TIME_PERIODS*num_sensors)\n",
    "    x_train = x_train.reshape(x_train.shape[0], input_shape)\n",
    "else:\n",
    "    num_sensors = 1\n",
    "    "
   ]
  },
  {
   "cell_type": "code",
   "execution_count": 67,
   "metadata": {},
   "outputs": [
    {
     "name": "stdout",
     "output_type": "stream",
     "text": [
      "(119998, 2)\n"
     ]
    }
   ],
   "source": [
    "from keras.utils import to_categorical\n",
    "if binary_class:\n",
    "    num_classes=1\n",
    "    y_train = np.expand_dims(y_train, axis=1)\n",
    "    print y_train.shape\n",
    "else:\n",
    "    num_classes = 2\n",
    "    y_train = to_categorical(y_train,num_classes)\n",
    "    print y_train.shape"
   ]
  },
  {
   "cell_type": "code",
   "execution_count": null,
   "metadata": {},
   "outputs": [],
   "source": [
    "import keras\n",
    "from keras.models import Sequential\n",
    "from keras.layers import Dense, Dropout, Flatten, Reshape, GlobalAveragePooling1D\n",
    "from keras.layers import Conv2D, MaxPooling2D, Conv1D, MaxPooling1D\n",
    "from keras.utils import np_utils\n",
    "from keras.layers import LSTM\n",
    "import time\n",
    "\n",
    "TIME_PERIODS = 33\n",
    "input_shape = TIME_PERIODS*num_sensors\n",
    "\n",
    "\n",
    "model_m = Sequential()\n",
    "model_m.add(Reshape((TIME_PERIODS, num_sensors), input_shape=(input_shape,)))\n",
    "model_m.add(LSTM(units=10, activation='sigmoid',input_shape=(33, 1),return_sequences=True))\n",
    "\n",
    "model_m.add(LSTM(units=20, activation='sigmoid',return_sequences=False))\n",
    "    #model_m.add(Reshape((30, 1), input_shape=(30,)))\n",
    "model_m.add(Dense(units=2, activation='tanh'))\n",
    "    \n",
    "start = time.time()\n",
    "    #rmsprop = optimizers.RMSprop(lr=0.0001)\n",
    "    #model.compile(loss=\"mse\", optimizer=rmsprop)\n",
    "    #model.compile(loss=\"mse\", optimizer=\"adagrad\")\n",
    "model_m.compile(loss=\"binary_crossentropy\", optimizer=\"rmsprop\", metrics=['accuracy'])\n",
    "\n",
    "print(\"Compilation Time : \", time.time() - start)\n",
    "\n",
    "\n",
    "history = model_m.fit(x_train,\n",
    "                      y_train,\n",
    "                      batch_size=BATCH_SIZE,\n",
    "                      epochs=EPOCHS,\n",
    "                      callbacks=callbacks_list,\n",
    "                      validation_split=0.2,\n",
    "                      verbose=1)\n",
    "print(model_m.summary())"
   ]
  },
  {
   "cell_type": "code",
   "execution_count": null,
   "metadata": {},
   "outputs": [],
   "source": [
    "import keras\n",
    "from keras.models import Sequential\n",
    "from keras.layers import Dense, Dropout, Flatten, Reshape, GlobalAveragePooling1D\n",
    "from keras.layers import Conv2D, MaxPooling2D, Conv1D, MaxPooling1D\n",
    "from keras.utils import np_utils\n",
    "from keras.layers import LSTM\n",
    "\n",
    "TIME_PERIODS = 33\n",
    "input_shape = TIME_PERIODS*num_sensors\n",
    "\n",
    "\n",
    "rnn = True\n",
    "\n",
    "model_m = Sequential()\n",
    "\n",
    "\n",
    "model_m.add(Reshape((TIME_PERIODS, num_sensors), input_shape=(input_shape,)))\n",
    "\n",
    "if rnn:\n",
    "    model_m.add(LSTM(units=256, activation='sigmoid',input_shape=(33, 1)))\n",
    "    model_m.add(Reshape((256, 1), input_shape=(256,)))\n",
    "\n",
    "model_m.add(Conv1D(128, 3, activation='relu')) #, input_shape=(128, num_sensors))\n",
    "model_m.add(Conv1D(128, 3, activation='relu'))\n",
    "model_m.add(MaxPooling1D(3))\n",
    "model_m.add(Conv1D(256, 3, activation='relu'))\n",
    "model_m.add(Conv1D(256, 3, activation='relu'))\n",
    "model_m.add(GlobalAveragePooling1D())\n",
    "model_m.add(Dropout(0.5))\n",
    "\n",
    "#model_m.add(LSTM(units=32, activation='relu',input_shape=(5, 100))) \n",
    "\n",
    "#model_m.add(LSTM(1))\n",
    "model_m.add(Dense(num_classes, activation='softmax'))\n",
    "print(model_m.summary())\n",
    "\n",
    "\n"
   ]
  },
  {
   "cell_type": "code",
   "execution_count": null,
   "metadata": {},
   "outputs": [],
   "source": [
    "print(\"\\n--- Fit the model ---\\n\")\n",
    "\n",
    "# The EarlyStopping callback monitors training accuracy:\n",
    "# if it fails to improve for two consecutive epochs,\n",
    "# training stops early\n",
    "callbacks_list = [\n",
    "    keras.callbacks.ModelCheckpoint(\n",
    "        filepath='best_model.{epoch:02d}-{val_loss:.2f}.h5',\n",
    "        monitor='val_loss', save_best_only=True),\n",
    "    keras.callbacks.EarlyStopping(monitor='acc', patience=1)\n",
    "]\n",
    "\n",
    "binary_class = False\n",
    "if binary_class:\n",
    "    model_m.compile(loss='binary_crossentropy',\n",
    "                optimizer='rmsprop', metrics=['accuracy'])\n",
    "else:\n",
    "    model_m.compile(loss='categorical_crossentropy',\n",
    "                optimizer='adam', metrics=['accuracy'])\n",
    "\n",
    "# Hyper-parameters\n",
    "BATCH_SIZE = 300\n",
    "EPOCHS = 50\n",
    "\n",
    "# Enable validation to use ModelCheckpoint and EarlyStopping callbacks.\n",
    "history = model_m.fit(x_train,\n",
    "                      y_train,\n",
    "                      batch_size=BATCH_SIZE,\n",
    "                      epochs=EPOCHS,\n",
    "                      callbacks=callbacks_list,\n",
    "                      validation_split=0.2,\n",
    "                      verbose=1)"
   ]
  },
  {
   "cell_type": "code",
   "execution_count": null,
   "metadata": {},
   "outputs": [],
   "source": [
    "# summarize history for accuracy and loss\n",
    "plt.figure(figsize=(6, 4))\n",
    "plt.plot(history.history['acc'], \"g--\", label=\"Accuracy of training data\")\n",
    "plt.plot(history.history['val_acc'], \"g\", label=\"Accuracy of validation data\")\n",
    "plt.plot(history.history['loss'], \"r--\", label=\"Loss of training data\")\n",
    "plt.plot(history.history['val_loss'], \"r\", label=\"Loss of validation data\")\n",
    "plt.title('Model Accuracy and Loss')\n",
    "plt.ylabel('Accuracy and Loss')\n",
    "plt.xlabel('Training Epoch')\n",
    "plt.ylim(0)\n",
    "plt.legend()\n",
    "plt.show()"
   ]
  },
  {
   "cell_type": "code",
   "execution_count": null,
   "metadata": {},
   "outputs": [],
   "source": [
    "def show_confusion_matrix(validations, predictions):\n",
    "\n",
    "    matrix = metrics.confusion_matrix(validations, predictions)\n",
    "    plt.figure(figsize=(6, 4))\n",
    "    sns.heatmap(matrix,\n",
    "                cmap=\"coolwarm\",\n",
    "                linecolor='white',\n",
    "                linewidths=1,\n",
    "                xticklabels=LABELS,\n",
    "                yticklabels=LABELS,\n",
    "                annot=True,\n",
    "                fmt=\"d\")\n",
    "    plt.title(\"Confusion Matrix\")\n",
    "    plt.ylabel(\"True Label\")\n",
    "    plt.xlabel(\"Predicted Label\")\n",
    "    plt.show()"
   ]
  },
  {
   "cell_type": "code",
   "execution_count": null,
   "metadata": {},
   "outputs": [],
   "source": [
    "#%%\n",
    "from sklearn import metrics\n",
    "from sklearn.metrics import classification_report\n",
    "import seaborn as sns\n",
    "from scipy import stats\n",
    "LABELS = [\"Desactivated\",\n",
    "          \"Activated\"]\n",
    "\n",
    "print(\"\\n--- Check against test data ---\\n\")\n",
    "x_test=np.delete(m_data,idx,axis=0)\n",
    "y_test=np.delete(y,idx)\n",
    "print x_test.shape, y_test.shape\n",
    "\n",
    "x_test = x_test.astype(\"float32\")\n",
    "y_test = y_test.astype(\"float32\")\n",
    "\n",
    "y_test = np_utils.to_categorical(y_test, num_classes)\n",
    "\n",
    "score = model_m.evaluate(x_test, y_test, verbose=1)\n",
    "\n",
    "print(\"\\nAccuracy on test data: %0.2f\" % score[1])\n",
    "print(\"\\nLoss on test data: %0.2f\" % score[0])\n",
    "\n",
    "# %%\n",
    "\n",
    "print(\"\\n--- Confusion matrix for test data ---\\n\")\n",
    "\n",
    "y_pred_test = model_m.predict(x_test)\n",
    "# Take the class with the highest probability from the test predictions\n",
    "max_y_pred_test = np.argmax(y_pred_test, axis=1)\n",
    "max_y_test = np.argmax(y_test, axis=1)\n",
    "\n",
    "show_confusion_matrix(max_y_test, max_y_pred_test)\n",
    "\n",
    "# %%\n",
    "\n",
    "print(\"\\n--- Classification report for test data ---\\n\")\n",
    "\n",
    "print(classification_report(max_y_test, max_y_pred_test))"
   ]
  },
  {
   "cell_type": "code",
   "execution_count": null,
   "metadata": {},
   "outputs": [],
   "source": []
  }
 ],
 "metadata": {
  "kernelspec": {
   "display_name": "Python 2",
   "language": "python",
   "name": "python2"
  },
  "language_info": {
   "codemirror_mode": {
    "name": "ipython",
    "version": 2
   },
   "file_extension": ".py",
   "mimetype": "text/x-python",
   "name": "python",
   "nbconvert_exporter": "python",
   "pygments_lexer": "ipython2",
   "version": "2.7.15"
  }
 },
 "nbformat": 4,
 "nbformat_minor": 2
}
