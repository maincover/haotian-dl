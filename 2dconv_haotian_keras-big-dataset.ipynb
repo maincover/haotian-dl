{
 "cells": [
  {
   "cell_type": "code",
   "execution_count": 31,
   "metadata": {},
   "outputs": [
    {
     "name": "stdout",
     "output_type": "stream",
     "text": [
      "(171427,) (171427, 33)\n"
     ]
    }
   ],
   "source": [
    "import numpy as np\n",
    "def seqTrans(argument):\n",
    "    switcher = {\n",
    "        'A': 1,\n",
    "        'T': 2,\n",
    "        'G': 3,\n",
    "        'C': 4,\n",
    "        'N': np.random.randint(1,4)\n",
    "    }\n",
    "    return switcher.get(argument, \"Invalid month\")\n",
    "\n",
    "def lineToArr(line):\n",
    "    arr = np.array([])\n",
    "    for a in line:\n",
    "        v = seqTrans(a)    \n",
    "        arr = np.append(arr,v)    \n",
    "    return arr\n",
    "\n",
    "\n",
    "import csv\n",
    "\n",
    "l_arr = []\n",
    "y =np.array([])\n",
    "with open('NGS201811_Censored(updated).csv') as csv_file:\n",
    "    csv_reader = csv.reader(csv_file, delimiter=',')\n",
    "    line_count = 0\n",
    "    for row in csv_reader:\n",
    "        if line_count == 0:\n",
    "            #print row\n",
    "            line_count += 1\n",
    "        else:            \n",
    "            line_count += 1\n",
    "            l_arr.append(lineToArr(row[0]))\n",
    "            y = np.append(y,row[2])\n",
    "            \n",
    "m_data = np.asmatrix(l_arr)\n",
    "y = y.astype('float32')\n",
    "m_data = m_data.astype('float32')\n",
    "#m_data = np.expand_dims(m_data, axis=2)\n",
    "#m_data=m_data.transpose()\n",
    "#y = y.reshape(1,len(y))\n",
    "print y.shape, m_data.shape"
   ]
  },
  {
   "cell_type": "code",
   "execution_count": 45,
   "metadata": {},
   "outputs": [],
   "source": [
    "def rToM_old(r):\n",
    "    m_new = np.zeros((r.size,r.size))\n",
    "    for k in range(0,r.size):\n",
    "        for j in range(0,r.size):\n",
    "            if k == j:\n",
    "                m_new[k,j] = r[k]\n",
    "            elif r[k] ==1 and r[j] == 2 or (r[k] == 2 and r[j] == 1):\n",
    "                m_new[k,j] = 5\n",
    "            elif r[k] ==3 and r[j] == 2 or (r[k] == 2 and r[j] == 3):\n",
    "                m_new[k,j] = 6\n",
    "            elif r[k] ==3 and r[j] == 4 or (r[k] == 4 and r[j] == 3):\n",
    "                m_new[k,j] = 7\n",
    "    return m_new\n",
    "\n",
    "def rToM(r):\n",
    "    m_new = np.zeros((r.size,r.size))\n",
    "    for k in range(0,r.size):\n",
    "        for j in range(k+1,r.size):\n",
    "            if k == j:\n",
    "                m_new[k,j] = r[k]     \n",
    "            elif r[k] ==1 and r[j] == 2 or (r[k] == 2 and r[j] == 1):\n",
    "                m_new[k,j] = 5\n",
    "            elif r[k] ==3 and r[j] == 2 or (r[k] == 2 and r[j] == 3):\n",
    "                m_new[k,j] = 6\n",
    "            elif r[k] ==3 and r[j] == 4 or (r[k] == 4 and r[j] == 3):\n",
    "                m_new[k,j] = 7\n",
    "    m = m_new.transpose()\n",
    "    m = m + m_new\n",
    "    m[np.diag_indices_from(m)] = r\n",
    "    return m\n",
    "\n",
    "nr,nc = m_data.shape\n",
    "m_data_image = np.empty([nr,nc,nc], dtype = int) \n",
    "for i in range(nr):\n",
    "    r = m_data[i,:]\n",
    "    r = np.asarray(r)\n",
    "    r = r.ravel()   \n",
    "    m_new = rToM(r)\n",
    "    m_data_image[i] = m_new\n",
    "    \n",
    "    "
   ]
  },
  {
   "cell_type": "code",
   "execution_count": 46,
   "metadata": {},
   "outputs": [
    {
     "name": "stdout",
     "output_type": "stream",
     "text": [
      "0.0\n"
     ]
    },
    {
     "data": {
      "image/png": "[encoded data removed]",
      "text/plain": [
       "<Figure size 432x288 with 1 Axes>"
      ]
     },
     "metadata": {},
     "output_type": "display_data"
    }
   ],
   "source": [
    "import numpy as np\n",
    "import matplotlib.image as mpimg\n",
    "import matplotlib.pyplot as plt\n",
    "%matplotlib inline\n",
    "array = np.asmatrix(m_data_image[200]).astype(np.uint8) \n",
    "plt.imshow(array)\n",
    "print y[200]"
   ]
  },
  {
   "cell_type": "code",
   "execution_count": 59,
   "metadata": {},
   "outputs": [
    {
     "name": "stdout",
     "output_type": "stream",
     "text": [
      "(119998, 33, 33) (119998,)\n",
      "(119998, 2)\n"
     ]
    }
   ],
   "source": [
    "m_data = m_data_image\n",
    "# Get the whole first file as trainning dataset, the other part as test\n",
    "#  Equanlization of training dataset\n",
    "Equalization = False\n",
    "train_ratio = 0.7 \n",
    "if Equalization:\n",
    "    id_1 =  np.where(y==1)\n",
    "    id_1 = id_1[0] \n",
    "    k = id_1.tolist()\n",
    "    idx = np.random.randint(len(k),size=int(len(k)*train_ratio))\n",
    "    x_train = m_data[idx,]\n",
    "    y_train = y[idx,]\n",
    "    print x_train.shape,y_train.shape\n",
    "else:\n",
    "    # No equalization of training dataset    \n",
    "    idx = np.random.randint(nr, size=int(nr*train_ratio))\n",
    "    #idx = range(171427)\n",
    "    x_train = m_data[idx,]\n",
    "    y_train = y[idx,]\n",
    "    print x_train.shape,y_train.shape\n",
    "    \n",
    "    \n",
    "from keras.utils import to_categorical\n",
    "\n",
    "num_classes = 2\n",
    "\n",
    "x_train = x_train.astype(int)\n",
    "y_train = to_categorical(y_train,num_classes)\n",
    "print y_train.shape"
   ]
  },
  {
   "cell_type": "code",
   "execution_count": 48,
   "metadata": {},
   "outputs": [],
   "source": [
    "from keras import backend as K\n",
    "import tensorflow as tf\n",
    "'''\n",
    "Compatible with tensorflow backend\n",
    "'''\n",
    "def focal_loss(gamma=2., alpha=.25):\n",
    "\tdef focal_loss_fixed(y_true, y_pred):\n",
    "\t\tpt_1 = tf.where(tf.equal(y_true, 1), y_pred, tf.ones_like(y_pred))\n",
    "        \tpt_0 = tf.where(tf.equal(y_true, 0), y_pred, tf.zeros_like(y_pred))\n",
    "        \treturn -K.sum(alpha * K.pow(1. - pt_1, gamma) * K.log(pt_1))-K.sum((1-alpha) * K.pow( pt_0, gamma) * K.log(1. - pt_0))\n",
    "\treturn focal_loss_fixed"
   ]
  },
  {
   "cell_type": "code",
   "execution_count": 49,
   "metadata": {},
   "outputs": [
    {
     "name": "stdout",
     "output_type": "stream",
     "text": [
      "_________________________________________________________________\n",
      "Layer (type)                 Output Shape              Param #   \n",
      "=================================================================\n",
      "conv2d_1 (Conv2D)            (None, 31, 31, 128)       1280      \n",
      "_________________________________________________________________\n",
      "conv2d_2 (Conv2D)            (None, 29, 29, 128)       147584    \n",
      "_________________________________________________________________\n",
      "max_pooling2d_1 (MaxPooling2 (None, 14, 14, 128)       0         \n",
      "_________________________________________________________________\n",
      "conv2d_3 (Conv2D)            (None, 12, 12, 256)       295168    \n",
      "_________________________________________________________________\n",
      "conv2d_4 (Conv2D)            (None, 10, 10, 256)       590080    \n",
      "_________________________________________________________________\n",
      "max_pooling2d_2 (MaxPooling2 (None, 5, 5, 256)         0         \n",
      "_________________________________________________________________\n",
      "conv2d_5 (Conv2D)            (None, 3, 3, 512)         1180160   \n",
      "_________________________________________________________________\n",
      "global_average_pooling2d_1 ( (None, 512)               0         \n",
      "_________________________________________________________________\n",
      "dropout_1 (Dropout)          (None, 512)               0         \n",
      "_________________________________________________________________\n",
      "dense_1 (Dense)              (None, 2)                 1026      \n",
      "=================================================================\n",
      "Total params: 2,215,298\n",
      "Trainable params: 2,215,298\n",
      "Non-trainable params: 0\n",
      "_________________________________________________________________\n",
      "None\n"
     ]
    }
   ],
   "source": [
    "from keras.models import Sequential\n",
    "from keras.layers import Dense, Flatten, Input\n",
    "from keras.layers.embeddings import Embedding\n",
    "from keras.models import Model\n",
    "from keras.preprocessing.sequence import pad_sequences\n",
    "from keras.preprocessing.text import one_hot\n",
    "from keras.layers import Dense, Dropout, Flatten, Reshape, GlobalAveragePooling1D,GlobalAveragePooling2D\n",
    "from keras.layers import Conv2D, MaxPooling2D, Conv1D, MaxPooling1D\n",
    "from keras.utils import np_utils\n",
    "#from focal_loss import focal_loss\n",
    "model = Sequential()\n",
    "\n",
    "\n",
    "#model.add(Flatten())\n",
    "model.add(Conv2D(128, (3,3), activation='relu',input_shape=(33, 33, 1)))\n",
    "model.add(Conv2D(128, (3,3), activation='relu'))\n",
    "model.add(MaxPooling2D(2))\n",
    "model.add(Conv2D(256, (3,3), activation='relu'))\n",
    "model.add(Conv2D(256, (3,3), activation='relu'))\n",
    "model.add(MaxPooling2D(2,2))\n",
    "model.add(Conv2D(512, (3,3), activation='relu'))\n",
    "model.add(GlobalAveragePooling2D())\n",
    "model.add(Dropout(0.5))\n",
    "\n",
    "model.add(Dense(2, activation='softmax'))\n",
    "# compile the model 编译\n",
    "\n",
    "model.compile(optimizer='adam', loss=[focal_loss(alpha=.25, gamma=2)], metrics=['acc'])\n",
    "#model.compile(optimizer='adam', loss='binary_crossentropy', metrics=['acc'])\n",
    "# summarize the model 打印模型信息\n",
    "print(model.summary())"
   ]
  },
  {
   "cell_type": "code",
   "execution_count": 50,
   "metadata": {},
   "outputs": [
    {
     "name": "stdout",
     "output_type": "stream",
     "text": [
      "\n",
      "--- Fit the model ---\n",
      "\n",
      "Train on 118798 samples, validate on 1200 samples\n",
      "Epoch 1/50\n",
      "118798/118798 [==============================] - 62s 520us/step - loss: 23.5478 - acc: 0.8062 - val_loss: 14.1231 - val_acc: 0.8783\n",
      "Epoch 2/50\n",
      "118798/118798 [==============================] - 57s 480us/step - loss: 12.7331 - acc: 0.9018 - val_loss: 11.2513 - val_acc: 0.9017\n",
      "Epoch 3/50\n",
      "118798/118798 [==============================] - 56s 475us/step - loss: 9.4286 - acc: 0.9296 - val_loss: 8.3167 - val_acc: 0.9408\n",
      "Epoch 4/50\n",
      "118798/118798 [==============================] - 55s 466us/step - loss: 7.1955 - acc: 0.9485 - val_loss: 6.8824 - val_acc: 0.9450\n",
      "Epoch 5/50\n",
      "118798/118798 [==============================] - 51s 433us/step - loss: 5.5576 - acc: 0.9607 - val_loss: 6.1933 - val_acc: 0.9567\n",
      "Epoch 6/50\n",
      "118798/118798 [==============================] - 58s 488us/step - loss: 4.2713 - acc: 0.9705 - val_loss: 6.2699 - val_acc: 0.9533\n",
      "Epoch 7/50\n",
      "118798/118798 [==============================] - 54s 457us/step - loss: 3.3203 - acc: 0.9771 - val_loss: 5.6073 - val_acc: 0.9667\n",
      "Epoch 8/50\n",
      "118798/118798 [==============================] - 54s 457us/step - loss: 2.6324 - acc: 0.9821 - val_loss: 5.6145 - val_acc: 0.9675\n",
      "Epoch 9/50\n",
      "118798/118798 [==============================] - 56s 473us/step - loss: 2.1967 - acc: 0.9856 - val_loss: 6.2827 - val_acc: 0.9717\n",
      "Epoch 10/50\n",
      "118798/118798 [==============================] - 57s 479us/step - loss: 1.8991 - acc: 0.9875 - val_loss: 5.8712 - val_acc: 0.9708\n",
      "Epoch 11/50\n",
      "118798/118798 [==============================] - 54s 458us/step - loss: 1.6023 - acc: 0.9898 - val_loss: 5.7085 - val_acc: 0.9675\n",
      "Epoch 12/50\n",
      "118798/118798 [==============================] - 57s 480us/step - loss: 1.4949 - acc: 0.9907 - val_loss: 6.3400 - val_acc: 0.9733\n",
      "Epoch 13/50\n",
      "118798/118798 [==============================] - 57s 477us/step - loss: 1.4096 - acc: 0.9909 - val_loss: 5.5989 - val_acc: 0.9733\n",
      "Epoch 14/50\n",
      "118798/118798 [==============================] - 57s 484us/step - loss: 1.2533 - acc: 0.9922 - val_loss: 5.9823 - val_acc: 0.9833\n",
      "Epoch 15/50\n",
      "118798/118798 [==============================] - 55s 466us/step - loss: 1.1026 - acc: 0.9933 - val_loss: 6.8293 - val_acc: 0.9708\n",
      "Epoch 16/50\n",
      "118798/118798 [==============================] - 54s 451us/step - loss: 1.1862 - acc: 0.9925 - val_loss: 6.6909 - val_acc: 0.9792\n"
     ]
    }
   ],
   "source": [
    "x_train= x_train.reshape(x_train.shape[0],33,33,1)\n",
    "# fit the model 拟合\n",
    "import keras\n",
    "\n",
    "BATCH_SIZE=200\n",
    "EPOCHS = 50\n",
    "print(\"\\n--- Fit the model ---\\n\")\n",
    "\n",
    "# The EarlyStopping callback monitors training accuracy:\n",
    "# if it fails to improve for two consecutive epochs,\n",
    "# training stops early\n",
    "callbacks_list = [\n",
    "    keras.callbacks.ModelCheckpoint(\n",
    "        filepath='best_model.{epoch:02d}-{val_loss:.2f}.h5',\n",
    "        monitor='val_loss', save_best_only=True),\n",
    "    keras.callbacks.EarlyStopping(monitor='acc', patience=1)\n",
    "]\n",
    "\n",
    "history = model.fit(x_train,\n",
    "                      y_train,\n",
    "                      batch_size=BATCH_SIZE,\n",
    "                      epochs=EPOCHS,\n",
    "                      callbacks=callbacks_list,\n",
    "                      validation_split=0.01,\n",
    "                      verbose=1)\n",
    "#history = model.fit(x_train, y_train, epochs=50,verbose=1)\n",
    "# evaluate the model 评估\n",
    "#loss, accuracy = model.evaluate(x_train, labels, verbose=0)\n",
    "#print('Accuracy: %f' % (accuracy*100))"
   ]
  },
  {
   "cell_type": "code",
   "execution_count": 51,
   "metadata": {},
   "outputs": [
    {
     "data": {
      "image/png": "[encoded data removed]",
      "text/plain": [
       "<Figure size 432x288 with 1 Axes>"
      ]
     },
     "metadata": {},
     "output_type": "display_data"
    }
   ],
   "source": [
    "# summarize history for accuracy and loss\n",
    "import matplotlib.pyplot as plt\n",
    "plt.figure(figsize=(6, 4))\n",
    "plt.plot(history.history['acc'], \"g--\", label=\"Accuracy of training data\")\n",
    "plt.plot(history.history['val_acc'], \"g\", label=\"Accuracy of validation data\")\n",
    "plt.plot(history.history['loss'], \"r--\", label=\"Loss of training data\")\n",
    "plt.plot(history.history['val_loss'], \"r\", label=\"Loss of validation data\")\n",
    "plt.title('Model Accuracy and Loss')\n",
    "plt.ylabel('Accuracy and Loss')\n",
    "plt.xlabel('Training Epoch')\n",
    "plt.ylim(0)\n",
    "plt.legend()\n",
    "plt.show()"
   ]
  },
  {
   "cell_type": "code",
   "execution_count": 52,
   "metadata": {},
   "outputs": [],
   "source": [
    "def show_confusion_matrix(validations, predictions):\n",
    "\n",
    "    matrix = metrics.confusion_matrix(validations, predictions)\n",
    "    plt.figure(figsize=(6, 4))\n",
    "    sns.heatmap(matrix,\n",
    "                cmap=\"coolwarm\",\n",
    "                linecolor='white',\n",
    "                linewidths=1,\n",
    "                xticklabels=LABELS,\n",
    "                yticklabels=LABELS,\n",
    "                annot=True,\n",
    "                fmt=\"d\")\n",
    "    plt.title(\"Confusion Matrix\")\n",
    "    plt.ylabel(\"True Label\")\n",
    "    plt.xlabel(\"Predicted Label\")\n",
    "    plt.show()"
   ]
  },
  {
   "cell_type": "code",
   "execution_count": 62,
   "metadata": {},
   "outputs": [
    {
     "name": "stdout",
     "output_type": "stream",
     "text": [
      "\n",
      "--- Check against test data ---\n",
      "\n",
      "(85129, 33, 33, 1) (85129,)\n",
      "85129/85129 [==============================] - 23s 267us/step\n",
      "\n",
      "Accuracy on test data: 0.97\n",
      "\n",
      "Loss on test data: 1.52\n",
      "\n",
      "--- Confusion matrix for test data ---\n",
      "\n"
     ]
    },
    {
     "data": {
      "image/png": "[encoded data removed]",
      "text/plain": [
       "<Figure size 432x288 with 2 Axes>"
      ]
     },
     "metadata": {},
     "output_type": "display_data"
    },
    {
     "name": "stdout",
     "output_type": "stream",
     "text": [
      "\n",
      "--- Classification report for test data ---\n",
      "\n",
      "             precision    recall  f1-score   support\n",
      "\n",
      "          0       0.98      0.98      0.98     63789\n",
      "          1       0.94      0.94      0.94     21340\n",
      "\n",
      "avg / total       0.97      0.97      0.97     85129\n",
      "\n"
     ]
    }
   ],
   "source": [
    "#%%\n",
    "\n",
    "m_data = m_data.reshape(171427,33,33,1)\n",
    "\n",
    "\n",
    "from sklearn import metrics\n",
    "from sklearn.metrics import classification_report\n",
    "import seaborn as sns\n",
    "from scipy import stats\n",
    "LABELS = [\"Desactivated\",\n",
    "          \"Activated\"]\n",
    "\n",
    "print(\"\\n--- Check against test data ---\\n\")\n",
    "\n",
    "#idx = range(10)\n",
    "x_test=np.delete(m_data,idx,axis=0)\n",
    "y_test=np.delete(y,idx)\n",
    "\n",
    "print x_test.shape, y_test.shape\n",
    "\n",
    "x_test = x_test.astype(\"float32\")\n",
    "y_test = y_test.astype(\"float32\")\n",
    "\n",
    "y_test = np_utils.to_categorical(y_test, num_classes)\n",
    "\n",
    "score = model.evaluate(x_test, y_test, verbose=1)\n",
    "\n",
    "print(\"\\nAccuracy on test data: %0.2f\" % score[1])\n",
    "print(\"\\nLoss on test data: %0.2f\" % score[0])\n",
    "\n",
    "# %%\n",
    "\n",
    "print(\"\\n--- Confusion matrix for test data ---\\n\")\n",
    "\n",
    "y_pred_test = model.predict(x_test)\n",
    "# Take the class with the highest probability from the test predictions\n",
    "max_y_pred_test = np.argmax(y_pred_test, axis=1)\n",
    "max_y_test = np.argmax(y_test, axis=1)\n",
    "\n",
    "show_confusion_matrix(max_y_test, max_y_pred_test)\n",
    "\n",
    "# %%\n",
    "\n",
    "print(\"\\n--- Classification report for test data ---\\n\")\n",
    "\n",
    "print(classification_report(max_y_test, max_y_pred_test))"
   ]
  },
  {
   "cell_type": "code",
   "execution_count": 57,
   "metadata": {},
   "outputs": [
    {
     "name": "stdout",
     "output_type": "stream",
     "text": [
      "(171417, 33, 33, 1)\n",
      "(171427, 33, 33, 1)\n"
     ]
    }
   ],
   "source": [
    "print x_test.shape\n",
    "print m_data.shape"
   ]
  },
  {
   "cell_type": "code",
   "execution_count": null,
   "metadata": {},
   "outputs": [],
   "source": [
    "import numpy as np\n",
    "from keras.preprocessing.text import one_hot\n",
    "def seqTrans(argument):\n",
    "    switcher = {\n",
    "        'A': 1,\n",
    "        'T': 2,\n",
    "        'G': 3,\n",
    "        'C': 4,\n",
    "        'N': np.random.randint(1,4)\n",
    "    }\n",
    "    return switcher.get(argument, \"Invalid month\")\n",
    "\n",
    "def lineToArr(line):\n",
    "    arr = np.array([])\n",
    "    for a in line:\n",
    "        v = seqTrans(a)    \n",
    "        arr = np.append(arr,v)    \n",
    "    return arr\n",
    "\n",
    "\n",
    "import csv\n",
    "\n",
    "l_arr = []\n",
    "y =np.array([])\n",
    "\n",
    "vocab_size = 64\n",
    "\n",
    "#with open('NGS201811_Censored(updated).csv') as csv_file:\n",
    "#    csv_reader = csv.reader(csv_file, delimiter=',')\n",
    "#    line_count = 0\n",
    "#    for row in csv_reader:\n",
    "#        if line_count == 0:\n",
    "#            #print row\n",
    "#            line_count += 1\n",
    "#        else:            \n",
    "#            line_count += 1\n",
    "#            s = row[0]\n",
    "#            lw = [s[i:i+3] for i in range(0, len(s)-2, 1)]  #lw = [s[i:i+3] for i in range(0, len(s), 3)]            \n",
    "#            encoded_docs = [one_hot(d, vocab_size) for d in lw]\n",
    "#            arr_id = np.asarray(encoded_docs)            \n",
    "#            l_arr.append(arr_id.ravel())\n",
    "#            y = np.append(y,row[2])\n",
    "\n",
    "with open('NGS201811_Censored(updated).csv') as csv_file:\n",
    "    csv_reader = csv.reader(csv_file, delimiter=',')\n",
    "    line_count = 0\n",
    "    for row in csv_reader:\n",
    "        if line_count == 0:\n",
    "            #print row\n",
    "            line_count += 1\n",
    "        else:            \n",
    "            line_count += 1\n",
    "            s = row[0]\n",
    "            lw = [s[i:i+3] for i in range(0, len(s)-2, 1)]  #lw = [s[i:i+3] for i in range(0, len(s), 3)]            \n",
    "            encoded_docs = [one_hot(d, vocab_size) for d in lw]\n",
    "            arr_id = np.asarray(encoded_docs)            \n",
    "            l_arr.append(arr_id.ravel())\n",
    "            y = np.append(y,row[2])            \n",
    "            \n",
    "m_data = np.asmatrix(l_arr)\n",
    "y = y.astype('float32')\n",
    "#m_data = m_data.astype('float32')\n",
    "#m_data = np.expand_dims(m_data, axis=2)\n",
    "#m_data=m_data.transpose()\n",
    "#y = y.reshape(1,len(y))\n",
    "print y.shape, m_data.shape"
   ]
  }
 ],
 "metadata": {
  "kernelspec": {
   "display_name": "Python 2",
   "language": "python",
   "name": "python2"
  },
  "language_info": {
   "codemirror_mode": {
    "name": "ipython",
    "version": 2
   },
   "file_extension": ".py",
   "mimetype": "text/x-python",
   "name": "python",
   "nbconvert_exporter": "python",
   "pygments_lexer": "ipython2",
   "version": "2.7.15"
  }
 },
 "nbformat": 4,
 "nbformat_minor": 2
}
