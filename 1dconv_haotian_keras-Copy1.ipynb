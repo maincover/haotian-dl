{
 "cells": [
  {
   "cell_type": "code",
   "execution_count": 1,
   "metadata": {},
   "outputs": [
    {
     "name": "stdout",
     "output_type": "stream",
     "text": [
      "(171427,) (171427, 33)\n"
     ]
    }
   ],
   "source": [
    "import numpy as np\n",
    "def seqTrans(argument):\n",
    "    switcher = {\n",
    "        'A': 0.25,\n",
    "        'T': 0.5,\n",
    "        'G': 0.75,\n",
    "        'C': 1.0,\n",
    "        'N': np.random.randint(1,4)\n",
    "    }\n",
    "    return switcher.get(argument, \"Invalid month\")\n",
    "\n",
    "def lineToArr(line):\n",
    "    arr = np.array([])\n",
    "    for a in line:\n",
    "        v = seqTrans(a)    \n",
    "        arr = np.append(arr,v)    \n",
    "    return arr\n",
    "\n",
    "\n",
    "import csv\n",
    "\n",
    "l_arr = []\n",
    "y =np.array([])\n",
    "with open('NGS201811_Censored(updated).csv') as csv_file:\n",
    "    csv_reader = csv.reader(csv_file, delimiter=',')\n",
    "    line_count = 0\n",
    "    for row in csv_reader:\n",
    "        if line_count == 0:\n",
    "            #print row\n",
    "            line_count += 1\n",
    "        else:            \n",
    "            line_count += 1\n",
    "            l_arr.append(lineToArr(row[0]))\n",
    "            y = np.append(y,row[2])\n",
    "            \n",
    "m_data = np.asmatrix(l_arr)\n",
    "y = y.astype('float32')\n",
    "m_data = m_data.astype('float32')\n",
    "#m_data = np.expand_dims(m_data, axis=2)\n",
    "#m_data=m_data.transpose()\n",
    "#y = y.reshape(1,len(y))\n",
    "print y.shape, m_data.shape"
   ]
  },
  {
   "cell_type": "code",
   "execution_count": 2,
   "metadata": {},
   "outputs": [
    {
     "name": "stdout",
     "output_type": "stream",
     "text": [
      "[128522.  42905.]\n"
     ]
    },
    {
     "data": {
      "image/png": "[encoded data removed]",
      "text/plain": [
       "<Figure size 432x288 with 1 Axes>"
      ]
     },
     "metadata": {},
     "output_type": "display_data"
    }
   ],
   "source": [
    "import matplotlib.pyplot as plt\n",
    "%matplotlib inline  \n",
    "# An \"interface\" to matplotlib.axes.Axes.hist() method\n",
    "n, bins, patches = plt.hist(x=y, bins=[-0.5,0.5,1.5], color='#0504aa',\n",
    "                            alpha=0.7, rwidth=0.85)\n",
    "plt.grid(axis='y', alpha=0.75)\n",
    "plt.xlabel('Value')\n",
    "plt.ylabel('Frequency')\n",
    "plt.title('Histogram')\n",
    "#plt.text(23, 45, r'$\\mu=15, b=3$')\n",
    "print n\n",
    "maxfreq = n.max()\n",
    "# Set a clean upper y-axis limit.\n",
    "#plt.ylim(ymax=np.ceil(maxfreq / 10) * 10 if maxfreq % 10 else maxfreq + 10)"
   ]
  },
  {
   "cell_type": "code",
   "execution_count": 3,
   "metadata": {},
   "outputs": [
    {
     "name": "stdout",
     "output_type": "stream",
     "text": [
      "(137141, 33) (137141,)\n"
     ]
    }
   ],
   "source": [
    "train_ratio = 0.8\n",
    "idx = np.random.randint(len(y), size=int(len(y)*train_ratio))\n",
    "x_train = m_data[idx,]\n",
    "y_train = y[idx,]\n",
    "print x_train.shape,y_train.shape"
   ]
  },
  {
   "cell_type": "code",
   "execution_count": 4,
   "metadata": {},
   "outputs": [
    {
     "name": "stderr",
     "output_type": "stream",
     "text": [
      "Using TensorFlow backend.\n"
     ]
    }
   ],
   "source": [
    "from keras.utils import to_categorical\n",
    "num_classes = 2\n",
    "y_binary = to_categorical(y_train,num_classes)"
   ]
  },
  {
   "cell_type": "code",
   "execution_count": 5,
   "metadata": {},
   "outputs": [
    {
     "name": "stdout",
     "output_type": "stream",
     "text": [
      "(137141, 1)\n"
     ]
    }
   ],
   "source": [
    "y_t = np.expand_dims(y_train,axis=1)\n",
    "print y_t.shape"
   ]
  },
  {
   "cell_type": "code",
   "execution_count": 6,
   "metadata": {},
   "outputs": [
    {
     "name": "stdout",
     "output_type": "stream",
     "text": [
      "_________________________________________________________________\n",
      "Layer (type)                 Output Shape              Param #   \n",
      "=================================================================\n",
      "reshape_1 (Reshape)          (None, 33, 1)             0         \n",
      "_________________________________________________________________\n",
      "conv1d_1 (Conv1D)            (None, 29, 100)           600       \n",
      "_________________________________________________________________\n",
      "conv1d_2 (Conv1D)            (None, 25, 100)           50100     \n",
      "_________________________________________________________________\n",
      "max_pooling1d_1 (MaxPooling1 (None, 12, 100)           0         \n",
      "_________________________________________________________________\n",
      "conv1d_3 (Conv1D)            (None, 10, 100)           30100     \n",
      "_________________________________________________________________\n",
      "conv1d_4 (Conv1D)            (None, 8, 100)            30100     \n",
      "_________________________________________________________________\n",
      "global_average_pooling1d_1 ( (None, 100)               0         \n",
      "_________________________________________________________________\n",
      "dropout_1 (Dropout)          (None, 100)               0         \n",
      "_________________________________________________________________\n",
      "dense_1 (Dense)              (None, 2)                 202       \n",
      "=================================================================\n",
      "Total params: 111,102\n",
      "Trainable params: 111,102\n",
      "Non-trainable params: 0\n",
      "_________________________________________________________________\n",
      "None\n"
     ]
    }
   ],
   "source": [
    "import keras\n",
    "from keras.models import Sequential\n",
    "from keras.layers import Dense, Dropout, Flatten, Reshape, GlobalAveragePooling1D\n",
    "from keras.layers import Conv2D, MaxPooling2D, Conv1D, MaxPooling1D\n",
    "from keras.utils import np_utils\n",
    "num_sensors = 1\n",
    "TIME_PERIODS = 33\n",
    "input_shape = 33\n",
    "num_classes = 2\n",
    "\n",
    "model_m = Sequential()\n",
    "model_m.add(Reshape((TIME_PERIODS, num_sensors), input_shape=(input_shape,)))\n",
    "model_m.add(Conv1D(100, 5, activation='relu', input_shape=(TIME_PERIODS, num_sensors)))\n",
    "model_m.add(Conv1D(100, 5, activation='relu'))\n",
    "model_m.add(MaxPooling1D(2))\n",
    "model_m.add(Conv1D(100, 3, activation='relu'))\n",
    "model_m.add(Conv1D(100, 3, activation='relu'))\n",
    "model_m.add(GlobalAveragePooling1D())\n",
    "model_m.add(Dropout(0.5))\n",
    "model_m.add(Dense(num_classes, activation='softmax'))\n",
    "print(model_m.summary())"
   ]
  },
  {
   "cell_type": "code",
   "execution_count": 7,
   "metadata": {},
   "outputs": [
    {
     "name": "stdout",
     "output_type": "stream",
     "text": [
      "\n",
      "--- Fit the model ---\n",
      "\n",
      "Train on 109712 samples, validate on 27429 samples\n",
      "Epoch 1/50\n",
      "109712/109712 [==============================] - 19s 171us/step - loss: 0.5155 - acc: 0.7780 - val_loss: 0.4458 - val_acc: 0.8161\n",
      "Epoch 2/50\n",
      "109712/109712 [==============================] - 18s 164us/step - loss: 0.4330 - acc: 0.8190 - val_loss: 0.4028 - val_acc: 0.8336\n",
      "Epoch 3/50\n",
      "109712/109712 [==============================] - 17s 159us/step - loss: 0.3976 - acc: 0.8318 - val_loss: 0.3713 - val_acc: 0.8427\n",
      "Epoch 4/50\n",
      "109712/109712 [==============================] - 17s 159us/step - loss: 0.3647 - acc: 0.8462 - val_loss: 0.3632 - val_acc: 0.8456\n",
      "Epoch 5/50\n",
      "109712/109712 [==============================] - 18s 161us/step - loss: 0.3391 - acc: 0.8578 - val_loss: 0.3349 - val_acc: 0.8589\n",
      "Epoch 6/50\n",
      "109712/109712 [==============================] - 17s 159us/step - loss: 0.3223 - acc: 0.8651 - val_loss: 0.3266 - val_acc: 0.8607\n",
      "Epoch 7/50\n",
      "109712/109712 [==============================] - 17s 159us/step - loss: 0.3046 - acc: 0.8737 - val_loss: 0.2987 - val_acc: 0.8742\n",
      "Epoch 8/50\n",
      "109712/109712 [==============================] - 17s 159us/step - loss: 0.2896 - acc: 0.8805 - val_loss: 0.2846 - val_acc: 0.8798\n",
      "Epoch 9/50\n",
      "109712/109712 [==============================] - 17s 159us/step - loss: 0.2791 - acc: 0.8856 - val_loss: 0.2706 - val_acc: 0.8920\n",
      "Epoch 10/50\n",
      "109712/109712 [==============================] - 18s 165us/step - loss: 0.2638 - acc: 0.8928 - val_loss: 0.2744 - val_acc: 0.8879\n",
      "Epoch 11/50\n",
      "109712/109712 [==============================] - 19s 172us/step - loss: 0.2546 - acc: 0.8971 - val_loss: 0.2534 - val_acc: 0.8954\n",
      "Epoch 12/50\n",
      "109712/109712 [==============================] - 19s 173us/step - loss: 0.2453 - acc: 0.9009 - val_loss: 0.2567 - val_acc: 0.8945\n",
      "Epoch 13/50\n",
      "109712/109712 [==============================] - 18s 160us/step - loss: 0.2361 - acc: 0.9056 - val_loss: 0.2359 - val_acc: 0.9062\n",
      "Epoch 14/50\n",
      "109712/109712 [==============================] - 19s 169us/step - loss: 0.2278 - acc: 0.9098 - val_loss: 0.2334 - val_acc: 0.9036\n",
      "Epoch 15/50\n",
      "109712/109712 [==============================] - 19s 177us/step - loss: 0.2205 - acc: 0.9123 - val_loss: 0.2263 - val_acc: 0.9125\n",
      "Epoch 16/50\n",
      "109712/109712 [==============================] - 19s 172us/step - loss: 0.2157 - acc: 0.9150 - val_loss: 0.2347 - val_acc: 0.9091\n",
      "Epoch 17/50\n",
      "109712/109712 [==============================] - 18s 161us/step - loss: 0.2068 - acc: 0.9186 - val_loss: 0.2167 - val_acc: 0.9163\n",
      "Epoch 18/50\n",
      "109712/109712 [==============================] - 19s 169us/step - loss: 0.2010 - acc: 0.9213 - val_loss: 0.2122 - val_acc: 0.9174\n",
      "Epoch 19/50\n",
      "109712/109712 [==============================] - 18s 160us/step - loss: 0.1965 - acc: 0.9229 - val_loss: 0.2186 - val_acc: 0.9159\n",
      "Epoch 20/50\n",
      "109712/109712 [==============================] - 19s 171us/step - loss: 0.1923 - acc: 0.9252 - val_loss: 0.2037 - val_acc: 0.9213\n",
      "Epoch 21/50\n",
      "109712/109712 [==============================] - 18s 163us/step - loss: 0.1880 - acc: 0.9269 - val_loss: 0.2081 - val_acc: 0.9186\n",
      "Epoch 22/50\n",
      "109712/109712 [==============================] - 19s 175us/step - loss: 0.1828 - acc: 0.9293 - val_loss: 0.1973 - val_acc: 0.9249\n",
      "Epoch 23/50\n",
      "109712/109712 [==============================] - 20s 182us/step - loss: 0.1782 - acc: 0.9311 - val_loss: 0.2116 - val_acc: 0.9183\n",
      "Epoch 24/50\n",
      "109712/109712 [==============================] - 19s 171us/step - loss: 0.1740 - acc: 0.9334 - val_loss: 0.2017 - val_acc: 0.9214\n",
      "Epoch 25/50\n",
      "109712/109712 [==============================] - 18s 162us/step - loss: 0.1703 - acc: 0.9347 - val_loss: 0.1947 - val_acc: 0.9258\n",
      "Epoch 26/50\n",
      "109712/109712 [==============================] - 19s 170us/step - loss: 0.1658 - acc: 0.9373 - val_loss: 0.1977 - val_acc: 0.9242\n",
      "Epoch 27/50\n",
      "109712/109712 [==============================] - 19s 174us/step - loss: 0.1625 - acc: 0.9379 - val_loss: 0.1894 - val_acc: 0.9283\n",
      "Epoch 28/50\n",
      "109712/109712 [==============================] - 19s 172us/step - loss: 0.1589 - acc: 0.9397 - val_loss: 0.1899 - val_acc: 0.9280\n",
      "Epoch 29/50\n",
      "109712/109712 [==============================] - 21s 188us/step - loss: 0.1561 - acc: 0.9407 - val_loss: 0.1939 - val_acc: 0.9277\n",
      "Epoch 30/50\n",
      "109712/109712 [==============================] - 19s 174us/step - loss: 0.1544 - acc: 0.9406 - val_loss: 0.1866 - val_acc: 0.9292\n"
     ]
    }
   ],
   "source": [
    "print(\"\\n--- Fit the model ---\\n\")\n",
    "\n",
    "# The EarlyStopping callback monitors training accuracy:\n",
    "# if it fails to improve for two consecutive epochs,\n",
    "# training stops early\n",
    "callbacks_list = [\n",
    "    keras.callbacks.ModelCheckpoint(\n",
    "        filepath='best_model.{epoch:02d}-{val_loss:.2f}.h5',\n",
    "        monitor='val_loss', save_best_only=True),\n",
    "    keras.callbacks.EarlyStopping(monitor='acc', patience=1)\n",
    "]\n",
    "\n",
    "model_m.compile(loss='categorical_crossentropy',\n",
    "                optimizer='adam', metrics=['accuracy'])\n",
    "\n",
    "# Hyper-parameters\n",
    "BATCH_SIZE = 200\n",
    "EPOCHS = 50\n",
    "\n",
    "# Enable validation to use ModelCheckpoint and EarlyStopping callbacks.\n",
    "history = model_m.fit(x_train,\n",
    "                      y_binary,\n",
    "                      batch_size=BATCH_SIZE,\n",
    "                      epochs=EPOCHS,\n",
    "                      callbacks=callbacks_list,\n",
    "                      validation_split=0.2,\n",
    "                      verbose=1)"
   ]
  },
  {
   "cell_type": "code",
   "execution_count": 8,
   "metadata": {},
   "outputs": [
    {
     "data": {
      "image/png": "[encoded data removed]",
      "text/plain": [
       "<Figure size 432x288 with 1 Axes>"
      ]
     },
     "metadata": {},
     "output_type": "display_data"
    }
   ],
   "source": [
    "# summarize history for accuracy and loss\n",
    "plt.figure(figsize=(6, 4))\n",
    "plt.plot(history.history['acc'], \"g--\", label=\"Accuracy of training data\")\n",
    "plt.plot(history.history['val_acc'], \"g\", label=\"Accuracy of validation data\")\n",
    "plt.plot(history.history['loss'], \"r--\", label=\"Loss of training data\")\n",
    "plt.plot(history.history['val_loss'], \"r\", label=\"Loss of validation data\")\n",
    "plt.title('Model Accuracy and Loss')\n",
    "plt.ylabel('Accuracy and Loss')\n",
    "plt.xlabel('Training Epoch')\n",
    "plt.ylim(0)\n",
    "plt.legend()\n",
    "plt.show()"
   ]
  },
  {
   "cell_type": "code",
   "execution_count": 9,
   "metadata": {},
   "outputs": [],
   "source": [
    "def show_confusion_matrix(validations, predictions):\n",
    "\n",
    "    matrix = metrics.confusion_matrix(validations, predictions)\n",
    "    plt.figure(figsize=(6, 4))\n",
    "    sns.heatmap(matrix,\n",
    "                cmap=\"coolwarm\",\n",
    "                linecolor='white',\n",
    "                linewidths=1,\n",
    "                xticklabels=LABELS,\n",
    "                yticklabels=LABELS,\n",
    "                annot=True,\n",
    "                fmt=\"d\")\n",
    "    plt.title(\"Confusion Matrix\")\n",
    "    plt.ylabel(\"True Label\")\n",
    "    plt.xlabel(\"Predicted Label\")\n",
    "    plt.show()"
   ]
  },
  {
   "cell_type": "code",
   "execution_count": 10,
   "metadata": {},
   "outputs": [
    {
     "name": "stdout",
     "output_type": "stream",
     "text": [
      "\n",
      "--- Check against test data ---\n",
      "\n",
      "(76884, 33) (76884,)\n",
      "76884/76884 [==============================] - 7s 87us/step\n",
      "\n",
      "Accuracy on test data: 0.92\n",
      "\n",
      "Loss on test data: 0.22\n",
      "\n",
      "--- Confusion matrix for test data ---\n",
      "\n"
     ]
    },
    {
     "data": {
      "image/png": "[encoded data removed]",
      "text/plain": [
       "<Figure size 432x288 with 2 Axes>"
      ]
     },
     "metadata": {},
     "output_type": "display_data"
    },
    {
     "name": "stdout",
     "output_type": "stream",
     "text": [
      "\n",
      "--- Classification report for test data ---\n",
      "\n",
      "             precision    recall  f1-score   support\n",
      "\n",
      "          0       0.93      0.97      0.95     57554\n",
      "          1       0.88      0.78      0.83     19330\n",
      "\n",
      "avg / total       0.92      0.92      0.92     76884\n",
      "\n"
     ]
    }
   ],
   "source": [
    "#%%\n",
    "from sklearn import metrics\n",
    "from sklearn.metrics import classification_report\n",
    "import seaborn as sns\n",
    "from scipy import stats\n",
    "LABELS = [\"Desactivated\",\n",
    "          \"Activated\"]\n",
    "\n",
    "print(\"\\n--- Check against test data ---\\n\")\n",
    "x_test=np.delete(m_data,idx,axis=0)\n",
    "y_test=np.delete(y,idx)\n",
    "print x_test.shape, y_test.shape\n",
    "\n",
    "x_test = x_test.astype(\"float32\")\n",
    "y_test = y_test.astype(\"float32\")\n",
    "\n",
    "y_test = np_utils.to_categorical(y_test, num_classes)\n",
    "\n",
    "score = model_m.evaluate(x_test, y_test, verbose=1)\n",
    "\n",
    "print(\"\\nAccuracy on test data: %0.2f\" % score[1])\n",
    "print(\"\\nLoss on test data: %0.2f\" % score[0])\n",
    "\n",
    "# %%\n",
    "\n",
    "print(\"\\n--- Confusion matrix for test data ---\\n\")\n",
    "\n",
    "y_pred_test = model_m.predict(x_test)\n",
    "# Take the class with the highest probability from the test predictions\n",
    "max_y_pred_test = np.argmax(y_pred_test, axis=1)\n",
    "max_y_test = np.argmax(y_test, axis=1)\n",
    "\n",
    "show_confusion_matrix(max_y_test, max_y_pred_test)\n",
    "\n",
    "# %%\n",
    "\n",
    "print(\"\\n--- Classification report for test data ---\\n\")\n",
    "\n",
    "print(classification_report(max_y_test, max_y_pred_test))"
   ]
  },
  {
   "cell_type": "code",
   "execution_count": null,
   "metadata": {},
   "outputs": [],
   "source": []
  }
 ],
 "metadata": {
  "kernelspec": {
   "display_name": "Python 2",
   "language": "python",
   "name": "python2"
  },
  "language_info": {
   "codemirror_mode": {
    "name": "ipython",
    "version": 2
   },
   "file_extension": ".py",
   "mimetype": "text/x-python",
   "name": "python",
   "nbconvert_exporter": "python",
   "pygments_lexer": "ipython2",
   "version": "2.7.15"
  }
 },
 "nbformat": 4,
 "nbformat_minor": 2
}
